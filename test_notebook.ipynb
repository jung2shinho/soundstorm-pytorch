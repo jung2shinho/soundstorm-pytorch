{
 "cells": [
  {
   "cell_type": "markdown",
   "metadata": {},
   "source": [
    "# SoundMime.com\n",
    "\n",
    "Imitates the voice of a human voice.\n",
    "\n",
    "- Soundstream for encoder/decoder.\n",
    "- SoundStorm for text-to-speech generation"
   ]
  },
  {
   "cell_type": "code",
   "execution_count": 1,
   "metadata": {},
   "outputs": [],
   "source": [
    "import torch\n",
    "import torchaudio\n",
    "import os\n",
    "curr_dir = os.getcwd()"
   ]
  },
  {
   "cell_type": "code",
   "execution_count": 2,
   "metadata": {},
   "outputs": [
    {
     "name": "stdout",
     "output_type": "stream",
     "text": [
      "['soundfile']\n"
     ]
    }
   ],
   "source": [
    "import soundstorm_pytorch\n",
    "# torchaudio.set_audio_backend(\"soundfile\") \n",
    "print(torchaudio.list_audio_backends())"
   ]
  },
  {
   "cell_type": "markdown",
   "metadata": {},
   "source": [
    "# Choose your pretrained models"
   ]
  },
  {
   "cell_type": "code",
   "execution_count": 3,
   "metadata": {},
   "outputs": [
    {
     "name": "stdout",
     "output_type": "stream",
     "text": [
      "<class 'soundstream.soundstream.SoundStream'>\n"
     ]
    }
   ],
   "source": [
    "from audiolm_pytorch import EncodecWrapper\n",
    "from soundstream import from_pretrained\n",
    "encodec = EncodecWrapper()\n",
    "# Now you can use the encodec variable in the same way you'd use the soundstream variables below.\n",
    "# or use audio_codec\n",
    "ss_model = from_pretrained()  # downloads model from Hugging Face\n",
    "ss_model.eval()\n",
    "print(type(ss_model))\n"
   ]
  },
  {
   "cell_type": "code",
   "execution_count": 4,
   "metadata": {},
   "outputs": [
    {
     "name": "stdout",
     "output_type": "stream",
     "text": [
      "audio.shape: torch.Size([1, 1, 1477632])\n"
     ]
    }
   ],
   "source": [
    "from soundstream import load\n",
    "\n",
    "# Provide initial audio input\n",
    "curr_dir = os.getcwd()\n",
    "file_path = os.path.join(curr_dir, 'audio_samples', 'sample1.wav')\n",
    "audio = load(file_path)\n",
    "print(f\"audio.shape: {audio.shape}\")\n",
    "\n",
    "encoded_features = ss_model.encoder(audio)  # Ensure audio is in the correct format\n",
    "# Pass the features through the quantizer to get the codes\n",
    "quantized, codes, _ = ss_model.quantizer(encoded_features.permute(0, 2, 1))  # Adjust dimensions if needed\n",
    "\n",
    "# quantized = audio_codec(waveform, mode='encode')\n",
    "# recovered = audio_codec(quantized, mode='decode')\n",
    "\n",
    "# torchaudio.save('out.wav', recovered[0], 16000)\n",
    "\n",
    "\n",
    "# # Identify soundstream to utilize.\n",
    "# encodec = EncodecWrapper()\n",
    "\n",
    "# # Use encodec as soundstream\n",
    "# soundstream = encodec \n",
    "# # or train your own soundstream\n",
    "\n",
    "# Save the codes to a file\n",
    "torch.save(codes, \"codes.pt\")\n"
   ]
  },
  {
   "cell_type": "markdown",
   "metadata": {},
   "source": [
    "# AudioLM\n",
    "## SoundStream & Encodec\n",
    "Neural audio compression. It focuses on compressing audio data efficiently while preserving as much quality as possible at low bitrates, aimed at real-time audio streaming or storage."
   ]
  },
  {
   "cell_type": "markdown",
   "metadata": {},
   "source": [
    "### Train the Soundstream"
   ]
  },
  {
   "cell_type": "code",
   "execution_count": 4,
   "metadata": {},
   "outputs": [
    {
     "name": "stdout",
     "output_type": "stream",
     "text": [
      "training with dataset of 44 samples and validating with randomly splitted 3 samples\n"
     ]
    },
    {
     "ename": "KeyboardInterrupt",
     "evalue": "",
     "output_type": "error",
     "traceback": [
      "\u001b[1;31m---------------------------------------------------------------------------\u001b[0m",
      "\u001b[1;31mKeyboardInterrupt\u001b[0m                         Traceback (most recent call last)",
      "Cell \u001b[1;32mIn[4], line 24\u001b[0m\n\u001b[0;32m     13\u001b[0m folder_path \u001b[38;5;241m=\u001b[39m \u001b[38;5;28mstr\u001b[39m(os\u001b[38;5;241m.\u001b[39mpath\u001b[38;5;241m.\u001b[39mjoin(curr_dir,\u001b[38;5;124m'\u001b[39m\u001b[38;5;124maudio_samples\u001b[39m\u001b[38;5;124m'\u001b[39m))\n\u001b[0;32m     15\u001b[0m trainer \u001b[38;5;241m=\u001b[39m SoundStreamTrainer(\n\u001b[0;32m     16\u001b[0m     soundstream,\n\u001b[0;32m     17\u001b[0m     folder \u001b[38;5;241m=\u001b[39m folder_path,\n\u001b[1;32m   (...)\u001b[0m\n\u001b[0;32m     21\u001b[0m     num_train_steps \u001b[38;5;241m=\u001b[39m \u001b[38;5;241m1_000_000\u001b[39m\n\u001b[0;32m     22\u001b[0m )\u001b[38;5;241m.\u001b[39mcpu()\n\u001b[1;32m---> 24\u001b[0m \u001b[43mtrainer\u001b[49m\u001b[38;5;241;43m.\u001b[39;49m\u001b[43mtrain\u001b[49m\u001b[43m(\u001b[49m\u001b[43m)\u001b[49m\n\u001b[0;32m     26\u001b[0m \u001b[38;5;66;03m# after a lot of training, you can test the autoencoding as so\u001b[39;00m\n\u001b[0;32m     27\u001b[0m soundstream\u001b[38;5;241m.\u001b[39meval() \u001b[38;5;66;03m# your soundstream must be in eval mode, to avoid having the residual dropout of the residual VQ necessary for training\u001b[39;00m\n",
      "File \u001b[1;32mc:\\Users\\jung2\\OneDrive\\G Drive\\My Projects\\Coding Projects\\soundstorm-pytorch\\.venv2\\Lib\\site-packages\\audiolm_pytorch\\trainer.py:710\u001b[0m, in \u001b[0;36mSoundStreamTrainer.train\u001b[1;34m(self, log_fn)\u001b[0m\n\u001b[0;32m    707\u001b[0m \u001b[38;5;28;01mdef\u001b[39;00m \u001b[38;5;21mtrain\u001b[39m(\u001b[38;5;28mself\u001b[39m, log_fn \u001b[38;5;241m=\u001b[39m noop):\n\u001b[0;32m    709\u001b[0m     \u001b[38;5;28;01mwhile\u001b[39;00m \u001b[38;5;28mself\u001b[39m\u001b[38;5;241m.\u001b[39msteps \u001b[38;5;241m<\u001b[39m \u001b[38;5;28mself\u001b[39m\u001b[38;5;241m.\u001b[39mnum_train_steps:\n\u001b[1;32m--> 710\u001b[0m         logs \u001b[38;5;241m=\u001b[39m \u001b[38;5;28;43mself\u001b[39;49m\u001b[38;5;241;43m.\u001b[39;49m\u001b[43mtrain_step\u001b[49m\u001b[43m(\u001b[49m\u001b[43m)\u001b[49m\n\u001b[0;32m    711\u001b[0m         log_fn(logs)\n\u001b[0;32m    713\u001b[0m     \u001b[38;5;28mself\u001b[39m\u001b[38;5;241m.\u001b[39mprint(\u001b[38;5;124m'\u001b[39m\u001b[38;5;124mtraining complete\u001b[39m\u001b[38;5;124m'\u001b[39m)\n",
      "File \u001b[1;32mc:\\Users\\jung2\\OneDrive\\G Drive\\My Projects\\Coding Projects\\soundstorm-pytorch\\.venv2\\Lib\\site-packages\\audiolm_pytorch\\trainer.py:578\u001b[0m, in \u001b[0;36mSoundStreamTrainer.train_step\u001b[1;34m(self)\u001b[0m\n\u001b[0;32m    575\u001b[0m wave \u001b[38;5;241m=\u001b[39m wave\u001b[38;5;241m.\u001b[39mto(device)\n\u001b[0;32m    577\u001b[0m \u001b[38;5;28;01mwith\u001b[39;00m \u001b[38;5;28mself\u001b[39m\u001b[38;5;241m.\u001b[39maccelerator\u001b[38;5;241m.\u001b[39mautocast(), context():\n\u001b[1;32m--> 578\u001b[0m     loss, (recon_loss, multi_spectral_recon_loss, adversarial_loss, feature_loss, all_commitment_loss) \u001b[38;5;241m=\u001b[39m \u001b[38;5;28;43mself\u001b[39;49m\u001b[38;5;241;43m.\u001b[39;49m\u001b[43msoundstream\u001b[49m\u001b[43m(\u001b[49m\u001b[43mwave\u001b[49m\u001b[43m,\u001b[49m\u001b[43m \u001b[49m\u001b[43mreturn_loss_breakdown\u001b[49m\u001b[43m \u001b[49m\u001b[38;5;241;43m=\u001b[39;49m\u001b[43m \u001b[49m\u001b[38;5;28;43;01mTrue\u001b[39;49;00m\u001b[43m)\u001b[49m\n\u001b[0;32m    580\u001b[0m     \u001b[38;5;28mself\u001b[39m\u001b[38;5;241m.\u001b[39maccelerator\u001b[38;5;241m.\u001b[39mbackward(loss \u001b[38;5;241m/\u001b[39m \u001b[38;5;28mself\u001b[39m\u001b[38;5;241m.\u001b[39mgrad_accum_every)\n\u001b[0;32m    582\u001b[0m accum_log(logs, \u001b[38;5;28mdict\u001b[39m(\n\u001b[0;32m    583\u001b[0m     loss \u001b[38;5;241m=\u001b[39m loss\u001b[38;5;241m.\u001b[39mitem() \u001b[38;5;241m/\u001b[39m \u001b[38;5;28mself\u001b[39m\u001b[38;5;241m.\u001b[39mgrad_accum_every,\n\u001b[0;32m    584\u001b[0m     recon_loss \u001b[38;5;241m=\u001b[39m recon_loss\u001b[38;5;241m.\u001b[39mitem() \u001b[38;5;241m/\u001b[39m \u001b[38;5;28mself\u001b[39m\u001b[38;5;241m.\u001b[39mgrad_accum_every,\n\u001b[0;32m    585\u001b[0m ))\n",
      "File \u001b[1;32mc:\\Users\\jung2\\OneDrive\\G Drive\\My Projects\\Coding Projects\\soundstorm-pytorch\\.venv2\\Lib\\site-packages\\torch\\nn\\modules\\module.py:1736\u001b[0m, in \u001b[0;36mModule._wrapped_call_impl\u001b[1;34m(self, *args, **kwargs)\u001b[0m\n\u001b[0;32m   1734\u001b[0m     \u001b[38;5;28;01mreturn\u001b[39;00m \u001b[38;5;28mself\u001b[39m\u001b[38;5;241m.\u001b[39m_compiled_call_impl(\u001b[38;5;241m*\u001b[39margs, \u001b[38;5;241m*\u001b[39m\u001b[38;5;241m*\u001b[39mkwargs)  \u001b[38;5;66;03m# type: ignore[misc]\u001b[39;00m\n\u001b[0;32m   1735\u001b[0m \u001b[38;5;28;01melse\u001b[39;00m:\n\u001b[1;32m-> 1736\u001b[0m     \u001b[38;5;28;01mreturn\u001b[39;00m \u001b[38;5;28;43mself\u001b[39;49m\u001b[38;5;241;43m.\u001b[39;49m\u001b[43m_call_impl\u001b[49m\u001b[43m(\u001b[49m\u001b[38;5;241;43m*\u001b[39;49m\u001b[43margs\u001b[49m\u001b[43m,\u001b[49m\u001b[43m \u001b[49m\u001b[38;5;241;43m*\u001b[39;49m\u001b[38;5;241;43m*\u001b[39;49m\u001b[43mkwargs\u001b[49m\u001b[43m)\u001b[49m\n",
      "File \u001b[1;32mc:\\Users\\jung2\\OneDrive\\G Drive\\My Projects\\Coding Projects\\soundstorm-pytorch\\.venv2\\Lib\\site-packages\\torch\\nn\\modules\\module.py:1747\u001b[0m, in \u001b[0;36mModule._call_impl\u001b[1;34m(self, *args, **kwargs)\u001b[0m\n\u001b[0;32m   1742\u001b[0m \u001b[38;5;66;03m# If we don't have any hooks, we want to skip the rest of the logic in\u001b[39;00m\n\u001b[0;32m   1743\u001b[0m \u001b[38;5;66;03m# this function, and just call forward.\u001b[39;00m\n\u001b[0;32m   1744\u001b[0m \u001b[38;5;28;01mif\u001b[39;00m \u001b[38;5;129;01mnot\u001b[39;00m (\u001b[38;5;28mself\u001b[39m\u001b[38;5;241m.\u001b[39m_backward_hooks \u001b[38;5;129;01mor\u001b[39;00m \u001b[38;5;28mself\u001b[39m\u001b[38;5;241m.\u001b[39m_backward_pre_hooks \u001b[38;5;129;01mor\u001b[39;00m \u001b[38;5;28mself\u001b[39m\u001b[38;5;241m.\u001b[39m_forward_hooks \u001b[38;5;129;01mor\u001b[39;00m \u001b[38;5;28mself\u001b[39m\u001b[38;5;241m.\u001b[39m_forward_pre_hooks\n\u001b[0;32m   1745\u001b[0m         \u001b[38;5;129;01mor\u001b[39;00m _global_backward_pre_hooks \u001b[38;5;129;01mor\u001b[39;00m _global_backward_hooks\n\u001b[0;32m   1746\u001b[0m         \u001b[38;5;129;01mor\u001b[39;00m _global_forward_hooks \u001b[38;5;129;01mor\u001b[39;00m _global_forward_pre_hooks):\n\u001b[1;32m-> 1747\u001b[0m     \u001b[38;5;28;01mreturn\u001b[39;00m \u001b[43mforward_call\u001b[49m\u001b[43m(\u001b[49m\u001b[38;5;241;43m*\u001b[39;49m\u001b[43margs\u001b[49m\u001b[43m,\u001b[49m\u001b[43m \u001b[49m\u001b[38;5;241;43m*\u001b[39;49m\u001b[38;5;241;43m*\u001b[39;49m\u001b[43mkwargs\u001b[49m\u001b[43m)\u001b[49m\n\u001b[0;32m   1749\u001b[0m result \u001b[38;5;241m=\u001b[39m \u001b[38;5;28;01mNone\u001b[39;00m\n\u001b[0;32m   1750\u001b[0m called_always_called_hooks \u001b[38;5;241m=\u001b[39m \u001b[38;5;28mset\u001b[39m()\n",
      "File \u001b[1;32mc:\\Users\\jung2\\OneDrive\\G Drive\\My Projects\\Coding Projects\\soundstorm-pytorch\\.venv2\\Lib\\site-packages\\audiolm_pytorch\\soundstream.py:956\u001b[0m, in \u001b[0;36mSoundStream.forward\u001b[1;34m(self, x, target, is_denoising, return_encoded, return_codes_only, return_discr_loss, return_discr_losses_separately, return_loss_breakdown, return_recons_only, input_sample_hz, apply_grad_penalty, curtail_from_left)\u001b[0m\n\u001b[0;32m    952\u001b[0m real, fake \u001b[38;5;241m=\u001b[39m orig_x, recon_x\n\u001b[0;32m    954\u001b[0m \u001b[38;5;66;03m# features from stft\u001b[39;00m\n\u001b[1;32m--> 956\u001b[0m (stft_real_logits, stft_real_intermediates), (stft_fake_logits, stft_fake_intermediates) \u001b[38;5;241m=\u001b[39m \u001b[38;5;28mmap\u001b[39m(partial(\u001b[38;5;28mself\u001b[39m\u001b[38;5;241m.\u001b[39mstft_discriminator, return_intermediates\u001b[38;5;241m=\u001b[39m\u001b[38;5;28;01mTrue\u001b[39;00m), (real, fake))\n\u001b[0;32m    957\u001b[0m discr_intermediates\u001b[38;5;241m.\u001b[39mappend((stft_real_intermediates, stft_fake_intermediates))\n\u001b[0;32m    959\u001b[0m scaled_real, scaled_fake \u001b[38;5;241m=\u001b[39m real, fake\n",
      "File \u001b[1;32mc:\\Users\\jung2\\OneDrive\\G Drive\\My Projects\\Coding Projects\\soundstorm-pytorch\\.venv2\\Lib\\site-packages\\torch\\nn\\modules\\module.py:1736\u001b[0m, in \u001b[0;36mModule._wrapped_call_impl\u001b[1;34m(self, *args, **kwargs)\u001b[0m\n\u001b[0;32m   1734\u001b[0m     \u001b[38;5;28;01mreturn\u001b[39;00m \u001b[38;5;28mself\u001b[39m\u001b[38;5;241m.\u001b[39m_compiled_call_impl(\u001b[38;5;241m*\u001b[39margs, \u001b[38;5;241m*\u001b[39m\u001b[38;5;241m*\u001b[39mkwargs)  \u001b[38;5;66;03m# type: ignore[misc]\u001b[39;00m\n\u001b[0;32m   1735\u001b[0m \u001b[38;5;28;01melse\u001b[39;00m:\n\u001b[1;32m-> 1736\u001b[0m     \u001b[38;5;28;01mreturn\u001b[39;00m \u001b[38;5;28;43mself\u001b[39;49m\u001b[38;5;241;43m.\u001b[39;49m\u001b[43m_call_impl\u001b[49m\u001b[43m(\u001b[49m\u001b[38;5;241;43m*\u001b[39;49m\u001b[43margs\u001b[49m\u001b[43m,\u001b[49m\u001b[43m \u001b[49m\u001b[38;5;241;43m*\u001b[39;49m\u001b[38;5;241;43m*\u001b[39;49m\u001b[43mkwargs\u001b[49m\u001b[43m)\u001b[49m\n",
      "File \u001b[1;32mc:\\Users\\jung2\\OneDrive\\G Drive\\My Projects\\Coding Projects\\soundstorm-pytorch\\.venv2\\Lib\\site-packages\\torch\\nn\\modules\\module.py:1747\u001b[0m, in \u001b[0;36mModule._call_impl\u001b[1;34m(self, *args, **kwargs)\u001b[0m\n\u001b[0;32m   1742\u001b[0m \u001b[38;5;66;03m# If we don't have any hooks, we want to skip the rest of the logic in\u001b[39;00m\n\u001b[0;32m   1743\u001b[0m \u001b[38;5;66;03m# this function, and just call forward.\u001b[39;00m\n\u001b[0;32m   1744\u001b[0m \u001b[38;5;28;01mif\u001b[39;00m \u001b[38;5;129;01mnot\u001b[39;00m (\u001b[38;5;28mself\u001b[39m\u001b[38;5;241m.\u001b[39m_backward_hooks \u001b[38;5;129;01mor\u001b[39;00m \u001b[38;5;28mself\u001b[39m\u001b[38;5;241m.\u001b[39m_backward_pre_hooks \u001b[38;5;129;01mor\u001b[39;00m \u001b[38;5;28mself\u001b[39m\u001b[38;5;241m.\u001b[39m_forward_hooks \u001b[38;5;129;01mor\u001b[39;00m \u001b[38;5;28mself\u001b[39m\u001b[38;5;241m.\u001b[39m_forward_pre_hooks\n\u001b[0;32m   1745\u001b[0m         \u001b[38;5;129;01mor\u001b[39;00m _global_backward_pre_hooks \u001b[38;5;129;01mor\u001b[39;00m _global_backward_hooks\n\u001b[0;32m   1746\u001b[0m         \u001b[38;5;129;01mor\u001b[39;00m _global_forward_hooks \u001b[38;5;129;01mor\u001b[39;00m _global_forward_pre_hooks):\n\u001b[1;32m-> 1747\u001b[0m     \u001b[38;5;28;01mreturn\u001b[39;00m \u001b[43mforward_call\u001b[49m\u001b[43m(\u001b[49m\u001b[38;5;241;43m*\u001b[39;49m\u001b[43margs\u001b[49m\u001b[43m,\u001b[49m\u001b[43m \u001b[49m\u001b[38;5;241;43m*\u001b[39;49m\u001b[38;5;241;43m*\u001b[39;49m\u001b[43mkwargs\u001b[49m\u001b[43m)\u001b[49m\n\u001b[0;32m   1749\u001b[0m result \u001b[38;5;241m=\u001b[39m \u001b[38;5;28;01mNone\u001b[39;00m\n\u001b[0;32m   1750\u001b[0m called_always_called_hooks \u001b[38;5;241m=\u001b[39m \u001b[38;5;28mset\u001b[39m()\n",
      "File \u001b[1;32mc:\\Users\\jung2\\OneDrive\\G Drive\\My Projects\\Coding Projects\\soundstorm-pytorch\\.venv2\\Lib\\site-packages\\audiolm_pytorch\\soundstream.py:297\u001b[0m, in \u001b[0;36mComplexSTFTDiscriminator.forward\u001b[1;34m(self, x, return_intermediates)\u001b[0m\n\u001b[0;32m    294\u001b[0m intermediates\u001b[38;5;241m.\u001b[39mappend(x)\n\u001b[0;32m    296\u001b[0m \u001b[38;5;28;01mfor\u001b[39;00m layer \u001b[38;5;129;01min\u001b[39;00m \u001b[38;5;28mself\u001b[39m\u001b[38;5;241m.\u001b[39mlayers:\n\u001b[1;32m--> 297\u001b[0m     x \u001b[38;5;241m=\u001b[39m \u001b[43mlayer\u001b[49m\u001b[43m(\u001b[49m\u001b[43mx\u001b[49m\u001b[43m)\u001b[49m\n\u001b[0;32m    298\u001b[0m     intermediates\u001b[38;5;241m.\u001b[39mappend(x)\n\u001b[0;32m    300\u001b[0m complex_logits \u001b[38;5;241m=\u001b[39m \u001b[38;5;28mself\u001b[39m\u001b[38;5;241m.\u001b[39mfinal_conv(x)\n",
      "File \u001b[1;32mc:\\Users\\jung2\\OneDrive\\G Drive\\My Projects\\Coding Projects\\soundstorm-pytorch\\.venv2\\Lib\\site-packages\\torch\\nn\\modules\\module.py:1736\u001b[0m, in \u001b[0;36mModule._wrapped_call_impl\u001b[1;34m(self, *args, **kwargs)\u001b[0m\n\u001b[0;32m   1734\u001b[0m     \u001b[38;5;28;01mreturn\u001b[39;00m \u001b[38;5;28mself\u001b[39m\u001b[38;5;241m.\u001b[39m_compiled_call_impl(\u001b[38;5;241m*\u001b[39margs, \u001b[38;5;241m*\u001b[39m\u001b[38;5;241m*\u001b[39mkwargs)  \u001b[38;5;66;03m# type: ignore[misc]\u001b[39;00m\n\u001b[0;32m   1735\u001b[0m \u001b[38;5;28;01melse\u001b[39;00m:\n\u001b[1;32m-> 1736\u001b[0m     \u001b[38;5;28;01mreturn\u001b[39;00m \u001b[38;5;28;43mself\u001b[39;49m\u001b[38;5;241;43m.\u001b[39;49m\u001b[43m_call_impl\u001b[49m\u001b[43m(\u001b[49m\u001b[38;5;241;43m*\u001b[39;49m\u001b[43margs\u001b[49m\u001b[43m,\u001b[49m\u001b[43m \u001b[49m\u001b[38;5;241;43m*\u001b[39;49m\u001b[38;5;241;43m*\u001b[39;49m\u001b[43mkwargs\u001b[49m\u001b[43m)\u001b[49m\n",
      "File \u001b[1;32mc:\\Users\\jung2\\OneDrive\\G Drive\\My Projects\\Coding Projects\\soundstorm-pytorch\\.venv2\\Lib\\site-packages\\torch\\nn\\modules\\module.py:1747\u001b[0m, in \u001b[0;36mModule._call_impl\u001b[1;34m(self, *args, **kwargs)\u001b[0m\n\u001b[0;32m   1742\u001b[0m \u001b[38;5;66;03m# If we don't have any hooks, we want to skip the rest of the logic in\u001b[39;00m\n\u001b[0;32m   1743\u001b[0m \u001b[38;5;66;03m# this function, and just call forward.\u001b[39;00m\n\u001b[0;32m   1744\u001b[0m \u001b[38;5;28;01mif\u001b[39;00m \u001b[38;5;129;01mnot\u001b[39;00m (\u001b[38;5;28mself\u001b[39m\u001b[38;5;241m.\u001b[39m_backward_hooks \u001b[38;5;129;01mor\u001b[39;00m \u001b[38;5;28mself\u001b[39m\u001b[38;5;241m.\u001b[39m_backward_pre_hooks \u001b[38;5;129;01mor\u001b[39;00m \u001b[38;5;28mself\u001b[39m\u001b[38;5;241m.\u001b[39m_forward_hooks \u001b[38;5;129;01mor\u001b[39;00m \u001b[38;5;28mself\u001b[39m\u001b[38;5;241m.\u001b[39m_forward_pre_hooks\n\u001b[0;32m   1745\u001b[0m         \u001b[38;5;129;01mor\u001b[39;00m _global_backward_pre_hooks \u001b[38;5;129;01mor\u001b[39;00m _global_backward_hooks\n\u001b[0;32m   1746\u001b[0m         \u001b[38;5;129;01mor\u001b[39;00m _global_forward_hooks \u001b[38;5;129;01mor\u001b[39;00m _global_forward_pre_hooks):\n\u001b[1;32m-> 1747\u001b[0m     \u001b[38;5;28;01mreturn\u001b[39;00m \u001b[43mforward_call\u001b[49m\u001b[43m(\u001b[49m\u001b[38;5;241;43m*\u001b[39;49m\u001b[43margs\u001b[49m\u001b[43m,\u001b[49m\u001b[43m \u001b[49m\u001b[38;5;241;43m*\u001b[39;49m\u001b[38;5;241;43m*\u001b[39;49m\u001b[43mkwargs\u001b[49m\u001b[43m)\u001b[49m\n\u001b[0;32m   1749\u001b[0m result \u001b[38;5;241m=\u001b[39m \u001b[38;5;28;01mNone\u001b[39;00m\n\u001b[0;32m   1750\u001b[0m called_always_called_hooks \u001b[38;5;241m=\u001b[39m \u001b[38;5;28mset\u001b[39m()\n",
      "File \u001b[1;32mc:\\Users\\jung2\\OneDrive\\G Drive\\My Projects\\Coding Projects\\soundstorm-pytorch\\.venv2\\Lib\\site-packages\\torch\\nn\\modules\\container.py:250\u001b[0m, in \u001b[0;36mSequential.forward\u001b[1;34m(self, input)\u001b[0m\n\u001b[0;32m    248\u001b[0m \u001b[38;5;28;01mdef\u001b[39;00m \u001b[38;5;21mforward\u001b[39m(\u001b[38;5;28mself\u001b[39m, \u001b[38;5;28minput\u001b[39m):\n\u001b[0;32m    249\u001b[0m     \u001b[38;5;28;01mfor\u001b[39;00m module \u001b[38;5;129;01min\u001b[39;00m \u001b[38;5;28mself\u001b[39m:\n\u001b[1;32m--> 250\u001b[0m         \u001b[38;5;28minput\u001b[39m \u001b[38;5;241m=\u001b[39m \u001b[43mmodule\u001b[49m\u001b[43m(\u001b[49m\u001b[38;5;28;43minput\u001b[39;49m\u001b[43m)\u001b[49m\n\u001b[0;32m    251\u001b[0m     \u001b[38;5;28;01mreturn\u001b[39;00m \u001b[38;5;28minput\u001b[39m\n",
      "File \u001b[1;32mc:\\Users\\jung2\\OneDrive\\G Drive\\My Projects\\Coding Projects\\soundstorm-pytorch\\.venv2\\Lib\\site-packages\\torch\\nn\\modules\\module.py:1736\u001b[0m, in \u001b[0;36mModule._wrapped_call_impl\u001b[1;34m(self, *args, **kwargs)\u001b[0m\n\u001b[0;32m   1734\u001b[0m     \u001b[38;5;28;01mreturn\u001b[39;00m \u001b[38;5;28mself\u001b[39m\u001b[38;5;241m.\u001b[39m_compiled_call_impl(\u001b[38;5;241m*\u001b[39margs, \u001b[38;5;241m*\u001b[39m\u001b[38;5;241m*\u001b[39mkwargs)  \u001b[38;5;66;03m# type: ignore[misc]\u001b[39;00m\n\u001b[0;32m   1735\u001b[0m \u001b[38;5;28;01melse\u001b[39;00m:\n\u001b[1;32m-> 1736\u001b[0m     \u001b[38;5;28;01mreturn\u001b[39;00m \u001b[38;5;28;43mself\u001b[39;49m\u001b[38;5;241;43m.\u001b[39;49m\u001b[43m_call_impl\u001b[49m\u001b[43m(\u001b[49m\u001b[38;5;241;43m*\u001b[39;49m\u001b[43margs\u001b[49m\u001b[43m,\u001b[49m\u001b[43m \u001b[49m\u001b[38;5;241;43m*\u001b[39;49m\u001b[38;5;241;43m*\u001b[39;49m\u001b[43mkwargs\u001b[49m\u001b[43m)\u001b[49m\n",
      "File \u001b[1;32mc:\\Users\\jung2\\OneDrive\\G Drive\\My Projects\\Coding Projects\\soundstorm-pytorch\\.venv2\\Lib\\site-packages\\torch\\nn\\modules\\module.py:1747\u001b[0m, in \u001b[0;36mModule._call_impl\u001b[1;34m(self, *args, **kwargs)\u001b[0m\n\u001b[0;32m   1742\u001b[0m \u001b[38;5;66;03m# If we don't have any hooks, we want to skip the rest of the logic in\u001b[39;00m\n\u001b[0;32m   1743\u001b[0m \u001b[38;5;66;03m# this function, and just call forward.\u001b[39;00m\n\u001b[0;32m   1744\u001b[0m \u001b[38;5;28;01mif\u001b[39;00m \u001b[38;5;129;01mnot\u001b[39;00m (\u001b[38;5;28mself\u001b[39m\u001b[38;5;241m.\u001b[39m_backward_hooks \u001b[38;5;129;01mor\u001b[39;00m \u001b[38;5;28mself\u001b[39m\u001b[38;5;241m.\u001b[39m_backward_pre_hooks \u001b[38;5;129;01mor\u001b[39;00m \u001b[38;5;28mself\u001b[39m\u001b[38;5;241m.\u001b[39m_forward_hooks \u001b[38;5;129;01mor\u001b[39;00m \u001b[38;5;28mself\u001b[39m\u001b[38;5;241m.\u001b[39m_forward_pre_hooks\n\u001b[0;32m   1745\u001b[0m         \u001b[38;5;129;01mor\u001b[39;00m _global_backward_pre_hooks \u001b[38;5;129;01mor\u001b[39;00m _global_backward_hooks\n\u001b[0;32m   1746\u001b[0m         \u001b[38;5;129;01mor\u001b[39;00m _global_forward_hooks \u001b[38;5;129;01mor\u001b[39;00m _global_forward_pre_hooks):\n\u001b[1;32m-> 1747\u001b[0m     \u001b[38;5;28;01mreturn\u001b[39;00m \u001b[43mforward_call\u001b[49m\u001b[43m(\u001b[49m\u001b[38;5;241;43m*\u001b[39;49m\u001b[43margs\u001b[49m\u001b[43m,\u001b[49m\u001b[43m \u001b[49m\u001b[38;5;241;43m*\u001b[39;49m\u001b[38;5;241;43m*\u001b[39;49m\u001b[43mkwargs\u001b[49m\u001b[43m)\u001b[49m\n\u001b[0;32m   1749\u001b[0m result \u001b[38;5;241m=\u001b[39m \u001b[38;5;28;01mNone\u001b[39;00m\n\u001b[0;32m   1750\u001b[0m called_always_called_hooks \u001b[38;5;241m=\u001b[39m \u001b[38;5;28mset\u001b[39m()\n",
      "File \u001b[1;32mc:\\Users\\jung2\\OneDrive\\G Drive\\My Projects\\Coding Projects\\soundstorm-pytorch\\.venv2\\Lib\\site-packages\\audiolm_pytorch\\soundstream.py:206\u001b[0m, in \u001b[0;36mComplexConv2d.forward\u001b[1;34m(self, x)\u001b[0m\n\u001b[0;32m    203\u001b[0m weight, bias \u001b[38;5;241m=\u001b[39m \u001b[38;5;28mmap\u001b[39m(torch\u001b[38;5;241m.\u001b[39mview_as_complex, (\u001b[38;5;28mself\u001b[39m\u001b[38;5;241m.\u001b[39mweight, \u001b[38;5;28mself\u001b[39m\u001b[38;5;241m.\u001b[39mbias))\n\u001b[0;32m    205\u001b[0m x \u001b[38;5;241m=\u001b[39m x\u001b[38;5;241m.\u001b[39mto(weight\u001b[38;5;241m.\u001b[39mdtype)\n\u001b[1;32m--> 206\u001b[0m \u001b[38;5;28;01mreturn\u001b[39;00m \u001b[43mF\u001b[49m\u001b[38;5;241;43m.\u001b[39;49m\u001b[43mconv2d\u001b[49m\u001b[43m(\u001b[49m\u001b[43mx\u001b[49m\u001b[43m,\u001b[49m\u001b[43m \u001b[49m\u001b[43mweight\u001b[49m\u001b[43m,\u001b[49m\u001b[43m \u001b[49m\u001b[43mbias\u001b[49m\u001b[43m,\u001b[49m\u001b[43m \u001b[49m\u001b[43mstride\u001b[49m\u001b[43m \u001b[49m\u001b[38;5;241;43m=\u001b[39;49m\u001b[43m \u001b[49m\u001b[38;5;28;43mself\u001b[39;49m\u001b[38;5;241;43m.\u001b[39;49m\u001b[43mstride\u001b[49m\u001b[43m,\u001b[49m\u001b[43m \u001b[49m\u001b[43mpadding\u001b[49m\u001b[43m \u001b[49m\u001b[38;5;241;43m=\u001b[39;49m\u001b[43m \u001b[49m\u001b[38;5;28;43mself\u001b[39;49m\u001b[38;5;241;43m.\u001b[39;49m\u001b[43mpadding\u001b[49m\u001b[43m)\u001b[49m\n",
      "\u001b[1;31mKeyboardInterrupt\u001b[0m: "
     ]
    }
   ],
   "source": [
    "from audiolm_pytorch import SoundStream, SoundStreamTrainer\n",
    "\n",
    "soundstream = SoundStream(\n",
    "    codebook_size = 4096,\n",
    "    rq_num_quantizers = 8,\n",
    "    rq_groups = 2,                       # this paper proposes using multi-headed residual vector quantization - https://arxiv.org/abs/2305.02765\n",
    "    use_lookup_free_quantizer = True,    # whether to use residual lookup free quantization - there are now reports of successful usage of this unpublished technique\n",
    "    use_finite_scalar_quantizer = False, # whether to use residual finite scalar quantization\n",
    "    attn_window_size = 128,              # local attention receptive field at bottleneck\n",
    "    attn_depth = 2                       # 2 local attention transformer blocks - the soundstream folks were not experts with attention, so i took the liberty to add some. encodec went with lstms, but attention should be better\n",
    ")\n",
    "\n",
    "folder_path = str(os.path.join(curr_dir,'audio_samples'))\n",
    "\n",
    "trainer = SoundStreamTrainer(\n",
    "    soundstream,\n",
    "    folder = folder_path,\n",
    "    batch_size = 3,\n",
    "    grad_accum_every = 8,         # effective batch size of 24\n",
    "    data_max_length_seconds = 2,  # train on 2 second audio\n",
    "    num_train_steps = 1_000_000\n",
    ").cpu()\n",
    "\n",
    "trainer.train()\n",
    "\n",
    "# after a lot of training, you can test the autoencoding as so\n",
    "soundstream.eval() # your soundstream must be in eval mode, to avoid having the residual dropout of the residual VQ necessary for training\n",
    "\n",
    "# Provide audio input\n",
    "# audio = torch.randn(10080).cpu() \n",
    "\n",
    "# Reconstruct audio using soundstream\n",
    "recons = soundstream(audio, return_recons_only = True) # (1, 10080) - 1 channel # reconstructed audio signal"
   ]
  },
  {
   "cell_type": "markdown",
   "metadata": {},
   "source": [
    "### Trained Soundstream as Tokenizer"
   ]
  },
  {
   "cell_type": "code",
   "execution_count": 6,
   "metadata": {},
   "outputs": [
    {
     "ename": "AttributeError",
     "evalue": "'SoundStream' object has no attribute 'decode_from_codebook_indices'",
     "output_type": "error",
     "traceback": [
      "\u001b[1;31m---------------------------------------------------------------------------\u001b[0m",
      "\u001b[1;31mAttributeError\u001b[0m                            Traceback (most recent call last)",
      "Cell \u001b[1;32mIn[6], line 6\u001b[0m\n\u001b[0;32m      4\u001b[0m codes \u001b[38;5;241m=\u001b[39m torch\u001b[38;5;241m.\u001b[39mload(\u001b[38;5;124m'\u001b[39m\u001b[38;5;124mcodes.pt\u001b[39m\u001b[38;5;124m'\u001b[39m) \u001b[38;5;66;03m# (batch, seq, num residual VQ)\u001b[39;00m\n\u001b[0;32m      5\u001b[0m \u001b[38;5;66;03m# # you can now train anything with the codebook ids\u001b[39;00m\n\u001b[1;32m----> 6\u001b[0m recon_audio_from_codes \u001b[38;5;241m=\u001b[39m \u001b[43mss_model\u001b[49m\u001b[38;5;241;43m.\u001b[39;49m\u001b[43mdecode_from_codebook_indices\u001b[49m(codes)\n\u001b[0;32m      8\u001b[0m \u001b[38;5;66;03m# # Sanity Check\u001b[39;00m\n\u001b[0;32m      9\u001b[0m \u001b[38;5;66;03m# # Compares the reconstructed audio from codes and audio\u001b[39;00m\n\u001b[0;32m     10\u001b[0m \u001b[38;5;66;03m# assert torch.allclose(\u001b[39;00m\n\u001b[0;32m     11\u001b[0m \u001b[38;5;66;03m#     recon_audio_from_codes,\u001b[39;00m\n\u001b[0;32m     12\u001b[0m \u001b[38;5;66;03m#     soundstream(audio, return_recons_only = True)\u001b[39;00m\n\u001b[0;32m     13\u001b[0m \u001b[38;5;66;03m# )\u001b[39;00m\n",
      "File \u001b[1;32mc:\\Users\\jung2\\OneDrive\\G Drive\\My Projects\\Coding Projects\\soundstorm-pytorch\\.venv2\\Lib\\site-packages\\torch\\nn\\modules\\module.py:1931\u001b[0m, in \u001b[0;36mModule.__getattr__\u001b[1;34m(self, name)\u001b[0m\n\u001b[0;32m   1929\u001b[0m     \u001b[38;5;28;01mif\u001b[39;00m name \u001b[38;5;129;01min\u001b[39;00m modules:\n\u001b[0;32m   1930\u001b[0m         \u001b[38;5;28;01mreturn\u001b[39;00m modules[name]\n\u001b[1;32m-> 1931\u001b[0m \u001b[38;5;28;01mraise\u001b[39;00m \u001b[38;5;167;01mAttributeError\u001b[39;00m(\n\u001b[0;32m   1932\u001b[0m     \u001b[38;5;124mf\u001b[39m\u001b[38;5;124m\"\u001b[39m\u001b[38;5;124m'\u001b[39m\u001b[38;5;132;01m{\u001b[39;00m\u001b[38;5;28mtype\u001b[39m(\u001b[38;5;28mself\u001b[39m)\u001b[38;5;241m.\u001b[39m\u001b[38;5;18m__name__\u001b[39m\u001b[38;5;132;01m}\u001b[39;00m\u001b[38;5;124m'\u001b[39m\u001b[38;5;124m object has no attribute \u001b[39m\u001b[38;5;124m'\u001b[39m\u001b[38;5;132;01m{\u001b[39;00mname\u001b[38;5;132;01m}\u001b[39;00m\u001b[38;5;124m'\u001b[39m\u001b[38;5;124m\"\u001b[39m\n\u001b[0;32m   1933\u001b[0m )\n",
      "\u001b[1;31mAttributeError\u001b[0m: 'SoundStream' object has no attribute 'decode_from_codebook_indices'"
     ]
    }
   ],
   "source": [
    "# Your trained Soundstream can then be used as a generic tokenizer for audio\n",
    "# audio = torch.randn(1, 512 * 320) # input\n",
    "# codes = soundstream.tokenize(audio) # convert into codes\n",
    "codes = torch.load('codes.pt') # (batch, seq, num residual VQ)\n",
    "# # you can now train anything with the codebook ids\n",
    "recon_audio_from_codes = ss_model.decode_from_codebook_indices(codes)\n",
    "\n",
    "# # Sanity Check\n",
    "# # Compares the reconstructed audio from codes and audio\n",
    "# assert torch.allclose(\n",
    "#     recon_audio_from_codes,\n",
    "#     soundstream(audio, return_recons_only = True)\n",
    "# )"
   ]
  },
  {
   "cell_type": "markdown",
   "metadata": {},
   "source": [
    "# SoundStorm"
   ]
  },
  {
   "cell_type": "code",
   "execution_count": 7,
   "metadata": {},
   "outputs": [
    {
     "name": "stderr",
     "output_type": "stream",
     "text": [
      "100%|██████████| 18/18 [01:06<00:00,  3.67s/it]\n",
      "  6%|▌         | 1/18 [00:03<01:03,  3.72s/it]\n",
      "  6%|▌         | 1/18 [00:03<00:59,  3.47s/it]\n",
      "  6%|▌         | 1/18 [00:03<01:05,  3.88s/it]\n",
      "  6%|▌         | 1/18 [00:03<01:00,  3.54s/it]\n",
      "  6%|▌         | 1/18 [00:03<01:02,  3.69s/it]\n",
      "  6%|▌         | 1/18 [00:03<01:05,  3.85s/it]\n",
      "  6%|▌         | 1/18 [00:03<00:57,  3.40s/it]\n",
      "  6%|▌         | 1/18 [00:03<01:01,  3.62s/it]\n",
      "  6%|▌         | 1/18 [00:03<01:02,  3.68s/it]\n",
      "  6%|▌         | 1/18 [00:03<00:57,  3.40s/it]\n",
      "  6%|▌         | 1/18 [00:03<01:06,  3.90s/it]\n",
      "  6%|▌         | 1/18 [00:03<01:01,  3.62s/it]\n",
      "  6%|▌         | 1/18 [00:03<01:01,  3.60s/it]\n",
      "  6%|▌         | 1/18 [00:04<01:09,  4.09s/it]\n",
      "  6%|▌         | 1/18 [00:03<01:00,  3.58s/it]\n"
     ]
    }
   ],
   "source": [
    "import torch\n",
    "from soundstorm_pytorch import SoundStorm, ConformerWrapper\n",
    "\n",
    "conformer = ConformerWrapper(\n",
    "    codebook_size = 1024,\n",
    "    num_quantizers = 16,\n",
    "    conformer = dict(\n",
    "        dim = 512,\n",
    "        depth = 2\n",
    "    ),\n",
    ")\n",
    "\n",
    "model = SoundStorm(\n",
    "    conformer,\n",
    "    steps = 18,          # 18 steps, as in original maskgit paper\n",
    "    schedule = 'cosine'  # currently the best schedule is cosine\n",
    ")\n",
    "\n",
    "# get your pre-encoded codebook ids from the soundstream from a lot of raw audio\n",
    "codes = torch.load('codes.pt') # (batch, seq, num residual VQ)\n",
    "\n",
    "# do the below in a loop for a ton of data\n",
    "loss, _ = model(codes)\n",
    "loss.backward()\n",
    "\n",
    "# model can now generate in 18 steps. ~2 seconds sounds reasonable\n",
    "\n",
    "generated = model.generate(1024, batch_size = 2) # (2, 1024)"
   ]
  },
  {
   "cell_type": "code",
   "execution_count": 23,
   "metadata": {},
   "outputs": [
    {
     "ename": "BeartypeCallHintParamViolation",
     "evalue": "Method soundstorm_pytorch.soundstorm.SoundStorm.__init__() parameter soundstream=\"SoundStream(\n  (encoder): Encoder(\n    (layers): Sequential(\n      (0): CausalConv1d(\n    ...)\" violates type hint audiolm_pytorch.soundstream.SoundStream | None, as <protocol \"soundstream.soundstream.SoundStream\"> \"SoundStream(\n  (encoder): Encoder(\n    (layers): Sequential(\n      (0): CausalConv1d(\n    ...)\" not <class \"builtins.NoneType\"> or <protocol \"audiolm_pytorch.soundstream.SoundStream\">.",
     "output_type": "error",
     "traceback": [
      "\u001b[1;31m---------------------------------------------------------------------------\u001b[0m",
      "\u001b[1;31mBeartypeCallHintParamViolation\u001b[0m            Traceback (most recent call last)",
      "Cell \u001b[1;32mIn[23], line 20\u001b[0m\n\u001b[0;32m      5\u001b[0m text_to_semantic \u001b[38;5;241m=\u001b[39m TextToSemantic(\n\u001b[0;32m      6\u001b[0m     dim \u001b[38;5;241m=\u001b[39m \u001b[38;5;241m512\u001b[39m,\n\u001b[0;32m      7\u001b[0m     source_depth \u001b[38;5;241m=\u001b[39m \u001b[38;5;241m12\u001b[39m,\n\u001b[1;32m   (...)\u001b[0m\n\u001b[0;32m     11\u001b[0m     use_openai_tokenizer \u001b[38;5;241m=\u001b[39m \u001b[38;5;28;01mFalse\u001b[39;00m\n\u001b[0;32m     12\u001b[0m )\n\u001b[0;32m     14\u001b[0m \u001b[38;5;66;03m# # load the trained text-to-semantic transformer\u001b[39;00m\n\u001b[0;32m     15\u001b[0m \n\u001b[0;32m     16\u001b[0m \u001b[38;5;66;03m# text_to_semantic.load(model)\u001b[39;00m\n\u001b[0;32m     17\u001b[0m \n\u001b[0;32m     18\u001b[0m \u001b[38;5;66;03m# pass it into the soundstorm\u001b[39;00m\n\u001b[1;32m---> 20\u001b[0m model_tts \u001b[38;5;241m=\u001b[39m \u001b[43mSoundStorm\u001b[49m\u001b[43m(\u001b[49m\n\u001b[0;32m     21\u001b[0m \u001b[43m    \u001b[49m\u001b[43mconformer\u001b[49m\u001b[43m,\u001b[49m\n\u001b[0;32m     22\u001b[0m \u001b[43m    \u001b[49m\u001b[43msoundstream\u001b[49m\u001b[43m \u001b[49m\u001b[38;5;241;43m=\u001b[39;49m\u001b[43m \u001b[49m\u001b[43mss_model\u001b[49m\u001b[43m,\u001b[49m\n\u001b[0;32m     23\u001b[0m \u001b[43m    \u001b[49m\u001b[43mspear_tts_text_to_semantic\u001b[49m\u001b[43m \u001b[49m\u001b[38;5;241;43m=\u001b[39;49m\u001b[43m \u001b[49m\u001b[43mtext_to_semantic\u001b[49m\n\u001b[0;32m     24\u001b[0m \u001b[43m)\u001b[49m\u001b[38;5;241m.\u001b[39mcpu()\n\u001b[0;32m     26\u001b[0m \u001b[38;5;66;03m# and now you can generate state-of-the-art speech\u001b[39;00m\n\u001b[0;32m     28\u001b[0m generated_speech \u001b[38;5;241m=\u001b[39m model_tts\u001b[38;5;241m.\u001b[39mgenerate(\n\u001b[0;32m     29\u001b[0m     texts \u001b[38;5;241m=\u001b[39m [\n\u001b[0;32m     30\u001b[0m         \u001b[38;5;124m'\u001b[39m\u001b[38;5;124mthe rain in spain stays mainly in the plain\u001b[39m\u001b[38;5;124m'\u001b[39m,\n\u001b[1;32m   (...)\u001b[0m\n\u001b[0;32m     34\u001b[0m     batch_size\u001b[38;5;241m=\u001b[39m\u001b[38;5;241m2\u001b[39m\n\u001b[0;32m     35\u001b[0m ) \u001b[38;5;66;03m# (2, n) - raw waveform decoded from soundstream\u001b[39;00m\n",
      "File \u001b[1;32m<@beartype(soundstorm_pytorch.soundstorm.SoundStorm.__init__) at 0x1557f0918a0>:50\u001b[0m, in \u001b[0;36m__init__\u001b[1;34m(__beartype_object_1466677718864, __beartype_get_violation, __beartype_conf, __beartype_object_1466674857344, __beartype_object_1466269525952, __beartype_object_1466679989696, __beartype_check_meta, __beartype_func, *args, **kwargs)\u001b[0m\n",
      "\u001b[1;31mBeartypeCallHintParamViolation\u001b[0m: Method soundstorm_pytorch.soundstorm.SoundStorm.__init__() parameter soundstream=\"SoundStream(\n  (encoder): Encoder(\n    (layers): Sequential(\n      (0): CausalConv1d(\n    ...)\" violates type hint audiolm_pytorch.soundstream.SoundStream | None, as <protocol \"soundstream.soundstream.SoundStream\"> \"SoundStream(\n  (encoder): Encoder(\n    (layers): Sequential(\n      (0): CausalConv1d(\n    ...)\" not <class \"builtins.NoneType\"> or <protocol \"audiolm_pytorch.soundstream.SoundStream\">."
     ]
    }
   ],
   "source": [
    "from spear_tts_pytorch import TextToSemantic\n",
    "from sentence_transformers import SentenceTransformer\n",
    "text_to_semantic = SentenceTransformer('all-MiniLM-L6-v2')\n",
    "\n",
    "text_to_semantic = TextToSemantic(\n",
    "    dim = 512,\n",
    "    source_depth = 12,\n",
    "    target_depth = 12,\n",
    "    num_text_token_ids = 50000,\n",
    "    num_semantic_token_ids = 20000,\n",
    "    use_openai_tokenizer = False\n",
    ")\n",
    "\n",
    "# # load the trained text-to-semantic transformer\n",
    "\n",
    "# text_to_semantic.load(model)\n",
    "\n",
    "# pass it into the soundstorm\n",
    "\n",
    "model_tts = SoundStorm(\n",
    "    conformer,\n",
    "    soundstream = ss_model,\n",
    "    spear_tts_text_to_semantic = text_to_semantic\n",
    ").cpu()\n",
    "\n",
    "# and now you can generate state-of-the-art speech\n",
    "\n",
    "generated_speech = model_tts.generate(\n",
    "    texts = [\n",
    "        'the rain in spain stays mainly in the plain',\n",
    "        'the quick brown fox jumps over the lazy dog'\n",
    "    ],\n",
    "    seconds=30,  # specify the number of seconds of audio to generate\n",
    "    batch_size=2\n",
    ") # (2, n) - raw waveform decoded from soundstream"
   ]
  }
 ],
 "metadata": {
  "kernelspec": {
   "display_name": ".venv2",
   "language": "python",
   "name": "python3"
  },
  "language_info": {
   "codemirror_mode": {
    "name": "ipython",
    "version": 3
   },
   "file_extension": ".py",
   "mimetype": "text/x-python",
   "name": "python",
   "nbconvert_exporter": "python",
   "pygments_lexer": "ipython3",
   "version": "3.11.9"
  }
 },
 "nbformat": 4,
 "nbformat_minor": 2
}
